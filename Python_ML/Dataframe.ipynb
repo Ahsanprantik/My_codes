import pandas as pd
from Ipython.display import display

# Creating a simple dataset of people
data = {
	'Name' : ["Jasim", "Karim", "Mita", "Antora"],
	'Location' : ["Rajshahi", "Dhaka", "Rangpur", "Kushtia"],
	'Age' : [24, 13, 53, 33]
}

frame = pd.DataFrame(data)

display(frame)

print()

display(frame[frame.Age > 30])